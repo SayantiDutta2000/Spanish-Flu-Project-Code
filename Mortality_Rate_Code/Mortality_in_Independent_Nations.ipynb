{
 "cells": [
  {
   "cell_type": "code",
   "execution_count": 92,
   "metadata": {},
   "outputs": [],
   "source": [
    "import numpy as np\n",
    "import pandas as pd\n",
    "import seaborn as sns\n",
    "import matplotlib.pyplot as plt"
   ]
  },
  {
   "cell_type": "code",
   "execution_count": 93,
   "metadata": {},
   "outputs": [
    {
     "data": {
      "text/html": [
       "<div>\n",
       "<style scoped>\n",
       "    .dataframe tbody tr th:only-of-type {\n",
       "        vertical-align: middle;\n",
       "    }\n",
       "\n",
       "    .dataframe tbody tr th {\n",
       "        vertical-align: top;\n",
       "    }\n",
       "\n",
       "    .dataframe thead th {\n",
       "        text-align: right;\n",
       "    }\n",
       "</style>\n",
       "<table border=\"1\" class=\"dataframe\">\n",
       "  <thead>\n",
       "    <tr style=\"text-align: right;\">\n",
       "      <th></th>\n",
       "      <th>Country</th>\n",
       "      <th>Estimated Deaths(UpperLimit)</th>\n",
       "    </tr>\n",
       "  </thead>\n",
       "  <tbody>\n",
       "    <tr>\n",
       "      <th>1</th>\n",
       "      <td>Australia</td>\n",
       "      <td>15000.0</td>\n",
       "    </tr>\n",
       "    <tr>\n",
       "      <th>4</th>\n",
       "      <td>Brazil</td>\n",
       "      <td>300000.0</td>\n",
       "    </tr>\n",
       "    <tr>\n",
       "      <th>6</th>\n",
       "      <td>Canada</td>\n",
       "      <td>50000.0</td>\n",
       "    </tr>\n",
       "    <tr>\n",
       "      <th>7</th>\n",
       "      <td>China</td>\n",
       "      <td>1280000.0</td>\n",
       "    </tr>\n",
       "    <tr>\n",
       "      <th>9</th>\n",
       "      <td>Denmark</td>\n",
       "      <td>5000.0</td>\n",
       "    </tr>\n",
       "  </tbody>\n",
       "</table>\n",
       "</div>"
      ],
      "text/plain": [
       "     Country  Estimated Deaths(UpperLimit)\n",
       "1  Australia                       15000.0\n",
       "4     Brazil                      300000.0\n",
       "6     Canada                       50000.0\n",
       "7      China                     1280000.0\n",
       "9    Denmark                        5000.0"
      ]
     },
     "execution_count": 93,
     "metadata": {},
     "output_type": "execute_result"
    }
   ],
   "source": [
    "#Reading and Cleaning the Data\n",
    "\n",
    "df = pd.read_excel('Mortality_in_Independent_Nations.xlsx')\n",
    "df.dropna(inplace = True)\n",
    "df.head()"
   ]
  },
  {
   "cell_type": "code",
   "execution_count": 94,
   "metadata": {},
   "outputs": [
    {
     "data": {
      "text/html": [
       "<div>\n",
       "<style scoped>\n",
       "    .dataframe tbody tr th:only-of-type {\n",
       "        vertical-align: middle;\n",
       "    }\n",
       "\n",
       "    .dataframe tbody tr th {\n",
       "        vertical-align: top;\n",
       "    }\n",
       "\n",
       "    .dataframe thead th {\n",
       "        text-align: right;\n",
       "    }\n",
       "</style>\n",
       "<table border=\"1\" class=\"dataframe\">\n",
       "  <thead>\n",
       "    <tr style=\"text-align: right;\">\n",
       "      <th></th>\n",
       "      <th>Country</th>\n",
       "      <th>Deaths</th>\n",
       "    </tr>\n",
       "  </thead>\n",
       "  <tbody>\n",
       "    <tr>\n",
       "      <th>14</th>\n",
       "      <td>India(British Republic)</td>\n",
       "      <td>13880000.0</td>\n",
       "    </tr>\n",
       "    <tr>\n",
       "      <th>16</th>\n",
       "      <td>Iran</td>\n",
       "      <td>2431000.0</td>\n",
       "    </tr>\n",
       "    <tr>\n",
       "      <th>15</th>\n",
       "      <td>Indonesia</td>\n",
       "      <td>1500000.0</td>\n",
       "    </tr>\n",
       "    <tr>\n",
       "      <th>7</th>\n",
       "      <td>China</td>\n",
       "      <td>1280000.0</td>\n",
       "    </tr>\n",
       "    <tr>\n",
       "      <th>17</th>\n",
       "      <td>Iraq</td>\n",
       "      <td>700000.0</td>\n",
       "    </tr>\n",
       "    <tr>\n",
       "      <th>29</th>\n",
       "      <td>US</td>\n",
       "      <td>675000.0</td>\n",
       "    </tr>\n",
       "    <tr>\n",
       "      <th>30</th>\n",
       "      <td>USSR</td>\n",
       "      <td>450000.0</td>\n",
       "    </tr>\n",
       "    <tr>\n",
       "      <th>12</th>\n",
       "      <td>Germany</td>\n",
       "      <td>426600.0</td>\n",
       "    </tr>\n",
       "    <tr>\n",
       "      <th>18</th>\n",
       "      <td>Italy</td>\n",
       "      <td>410000.0</td>\n",
       "    </tr>\n",
       "    <tr>\n",
       "      <th>11</th>\n",
       "      <td>France</td>\n",
       "      <td>400000.0</td>\n",
       "    </tr>\n",
       "    <tr>\n",
       "      <th>19</th>\n",
       "      <td>Japan</td>\n",
       "      <td>390000.0</td>\n",
       "    </tr>\n",
       "    <tr>\n",
       "      <th>4</th>\n",
       "      <td>Brazil</td>\n",
       "      <td>300000.0</td>\n",
       "    </tr>\n",
       "    <tr>\n",
       "      <th>25</th>\n",
       "      <td>Spain</td>\n",
       "      <td>260000.0</td>\n",
       "    </tr>\n",
       "    <tr>\n",
       "      <th>28</th>\n",
       "      <td>UK</td>\n",
       "      <td>250000.0</td>\n",
       "    </tr>\n",
       "    <tr>\n",
       "      <th>21</th>\n",
       "      <td>Mexico</td>\n",
       "      <td>230500.0</td>\n",
       "    </tr>\n",
       "    <tr>\n",
       "      <th>20</th>\n",
       "      <td>Korea</td>\n",
       "      <td>200000.0</td>\n",
       "    </tr>\n",
       "    <tr>\n",
       "      <th>24</th>\n",
       "      <td>Portugal</td>\n",
       "      <td>118065.0</td>\n",
       "    </tr>\n",
       "    <tr>\n",
       "      <th>13</th>\n",
       "      <td>Ghana</td>\n",
       "      <td>100000.0</td>\n",
       "    </tr>\n",
       "    <tr>\n",
       "      <th>6</th>\n",
       "      <td>Canada</td>\n",
       "      <td>50000.0</td>\n",
       "    </tr>\n",
       "    <tr>\n",
       "      <th>26</th>\n",
       "      <td>Sweeden</td>\n",
       "      <td>34500.0</td>\n",
       "    </tr>\n",
       "    <tr>\n",
       "      <th>31</th>\n",
       "      <td>Vietnam</td>\n",
       "      <td>33000.0</td>\n",
       "    </tr>\n",
       "    <tr>\n",
       "      <th>27</th>\n",
       "      <td>Switzerland</td>\n",
       "      <td>25000.0</td>\n",
       "    </tr>\n",
       "    <tr>\n",
       "      <th>23</th>\n",
       "      <td>Norway</td>\n",
       "      <td>15000.0</td>\n",
       "    </tr>\n",
       "    <tr>\n",
       "      <th>1</th>\n",
       "      <td>Australia</td>\n",
       "      <td>15000.0</td>\n",
       "    </tr>\n",
       "    <tr>\n",
       "      <th>22</th>\n",
       "      <td>New Zeland</td>\n",
       "      <td>8900.0</td>\n",
       "    </tr>\n",
       "    <tr>\n",
       "      <th>9</th>\n",
       "      <td>Denmark</td>\n",
       "      <td>5000.0</td>\n",
       "    </tr>\n",
       "  </tbody>\n",
       "</table>\n",
       "</div>"
      ],
      "text/plain": [
       "                    Country      Deaths\n",
       "14  India(British Republic)  13880000.0\n",
       "16                     Iran   2431000.0\n",
       "15                Indonesia   1500000.0\n",
       "7                     China   1280000.0\n",
       "17                     Iraq    700000.0\n",
       "29                       US    675000.0\n",
       "30                     USSR    450000.0\n",
       "12                  Germany    426600.0\n",
       "18                    Italy    410000.0\n",
       "11                   France    400000.0\n",
       "19                    Japan    390000.0\n",
       "4                    Brazil    300000.0\n",
       "25                    Spain    260000.0\n",
       "28                       UK    250000.0\n",
       "21                   Mexico    230500.0\n",
       "20                    Korea    200000.0\n",
       "24                 Portugal    118065.0\n",
       "13                    Ghana    100000.0\n",
       "6                    Canada     50000.0\n",
       "26                 Sweeden      34500.0\n",
       "31                  Vietnam     33000.0\n",
       "27              Switzerland     25000.0\n",
       "23                   Norway     15000.0\n",
       "1                 Australia     15000.0\n",
       "22               New Zeland      8900.0\n",
       "9                   Denmark      5000.0"
      ]
     },
     "execution_count": 94,
     "metadata": {},
     "output_type": "execute_result"
    }
   ],
   "source": [
    "#Sorting the data\n",
    "\n",
    "df = df.rename(columns={\"Estimated Deaths(UpperLimit)\": \"Deaths\"})\n",
    "df.head()\n",
    "df_sorted = df.sort_values(['Deaths'],ascending = False)\n",
    "df_sorted"
   ]
  },
  {
   "cell_type": "code",
   "execution_count": 95,
   "metadata": {},
   "outputs": [
    {
     "data": {
      "image/png": "[encoded data removed]",
      "text/plain": [
       "<Figure size 432x288 with 1 Axes>"
      ]
     },
     "metadata": {
      "needs_background": "light"
     },
     "output_type": "display_data"
    }
   ],
   "source": [
    "x = df['Country']\n",
    "y = df['Deaths']\n",
    "plt.scatter(x,y)\n",
    "plt.title('Scatter plot denoting deaths country-wise')\n",
    "plt.xlabel('Name of Country')\n",
    "plt.ylabel('Deaths')\n",
    "plt.show()"
   ]
  },
  {
   "cell_type": "markdown",
   "metadata": {},
   "source": [
    "### The above plot shows the variation of deaths by countries\n",
    "\n",
    "\n",
    "As it can be seen that the number of estimated deaths is exceedingly high for a certain country which is $India$\n",
    "\n",
    "A brief comprehensive report on this can be found on the following link - "
   ]
  },
  {
   "cell_type": "markdown",
   "metadata": {},
   "source": [
    "              "
   ]
  },
  {
   "cell_type": "markdown",
   "metadata": {},
   "source": [
    "The Spanish Flu of 1918 had a huge impact of several Asian countries. \n",
    "Countries like Indonesia, China, Iran and Iraq suffered over half a million people each. \n"
   ]
  },
  {
   "cell_type": "markdown",
   "metadata": {},
   "source": [
    "##### Impact on Iran-Iraq\n",
    "Iran and Iraq suffered heavy casualties  primarily because they were employed as low class peasants  and working end people. During the last year of the world war, Indian and British soldiers were stationed in Bushehr and Bandar-e Lengeh Ports while the Russian army held its ground near the Azerbaijan and Ghazvin Province. They were the people responsible for the heavy lifting for both the Russian and British army. The state of the country was also very poor. Famine and Cholera ravaged the countries. People died due to lack of food, proper shelter and drugs/medicines were a royalty that only the very high class people could afford. Mohammad Ali Jamalzadeh in his book Shiraz wrote that - \n",
    "at the end of WWI, three lethal killers entered Shiraz; they were famine, cholera and the Spanish flu. Many people died and corpses were seen everywhere in the city. The Bazar and shops were closed. There was no doctor, no nurse, and no drug.\" \n",
    "\n",
    "(Reference - Majd MG. Ghahti Bozorg va Marg-o-mir Dar Iran, 1917 � 1919 [Translated into Persian by M. Jamshidi]. Faslnameh Takhasosi Tarikh Moasere Iran. 2006)\n"
   ]
  },
  {
   "cell_type": "markdown",
   "metadata": {},
   "source": [
    "##### Impact on Indonesia and neighboring  islands\n"
   ]
  },
  {
   "cell_type": "markdown",
   "metadata": {},
   "source": [
    "In Indonesia formerly know as East Indies, the Spanish Flu hit in two waves the first in June to September 1918, while the second hit in mid to late October of 1918. The first case to be reported was in Pangkatan port, North Sumatra, in June 1918, and the source can be traced back to workers from Singaporean plantations. In a rew weeks, the Spanish Flu had reached the interior of the country. By June, the virus is estimated to have infected 5 per cent of the total population. The second wave hit more firmly and spread rapidly to the east. By January of 1919 the disease covered the whole of the Dutch East Indies. A report by Burgerlijken Geneeskundigen Dienst, BGD mentions that no part of East Indies was left unscathed.  "
   ]
  },
  {
   "cell_type": "markdown",
   "metadata": {},
   "source": [
    "   "
   ]
  },
  {
   "cell_type": "markdown",
   "metadata": {},
   "source": [
    "##### Impact on China"
   ]
  },
  {
   "cell_type": "markdown",
   "metadata": {},
   "source": [
    "China was hit in two waves. The first wave hit the country around June 1918 and had very less effect with the majority of young people being affected. The second wave was more devastating and hit the country hard around September. The spread started from South(Shanghai, Guangzhou) to remote parts of North.\n",
    "The country has no official records that show how much of people actually died. It's recorded that over 20% of the southern population was hit by the first wave and that number soared to over 70%  by the end of the second wave which was in January 1919.\n",
    "\n",
    "Since China, at that time was very active in terms of trade specifically by the sea route, port cities like Dalian, Tianjin, Yochow, Wuhu, Zhenjiang, Ningbo, Santuao(Fujian), Shantou, Kowloon, Lappa, Pakhoi and Mengtsz, Heilongjiang, Jilin, Liaoling, Hebei, Shangdong, Jiangsu, Zhenjiang, FujianGuangxi, Hubei, Sichuan and Yunnan were hit in varying degrees. \n",
    "\n",
    "There are several reasons that could have brought the virus to the country. Trade routes could have been a very potential and evident cause. It's close relation with Russia could also have been a cause. British army which took part in the World War could also have been a very potential cause. \n",
    "\n",
    "There are rumours however, that Spanish Flu 1918 could have also started from China itself by the working miners and spread to the rest of the world. However it is true that the first reported case of Spanish Flu was in Spain but since the media during those days was warped and in chaos, nothing could be said for sure."
   ]
  },
  {
   "cell_type": "markdown",
   "metadata": {},
   "source": [
    "       "
   ]
  },
  {
   "cell_type": "markdown",
   "metadata": {},
   "source": [
    "##### Prevention taken by Japan, Korea and Vietnam"
   ]
  },
  {
   "cell_type": "markdown",
   "metadata": {},
   "source": [
    "Japan and Korea also had there fair share of affected cases and mortality. However, understanding the gravity of the situation both countries decied to seal of their port routes. After the end of the world war by the late 1918, Japan sealed of most of its ports. Only a few were left open for Naval and Millitary purposes.Japnese controlled Korea however sealed off its ports way back. \n",
    "Japan and Korea have faced pandemics from the Heian era. Therefore traditional medicines also helped to stop the spread of Spanish Flu. \n",
    "\n",
    "Vietnam on the other hand was a very inactive country during those times. The spread of the Flu was mainly attributed to the farming of Pigs and Cows. Vietnam sealed the sale and export of animal products in late September 1918. This greatly helped reduce the spread of the flu. "
   ]
  },
  {
   "cell_type": "code",
   "execution_count": null,
   "metadata": {},
   "outputs": [],
   "source": []
  }
 ],
 "metadata": {
  "kernelspec": {
   "display_name": "Python 3",
   "language": "python",
   "name": "python3"
  },
  "language_info": {
   "codemirror_mode": {
    "name": "ipython",
    "version": 3
   },
   "file_extension": ".py",
   "mimetype": "text/x-python",
   "name": "python",
   "nbconvert_exporter": "python",
   "pygments_lexer": "ipython3",
   "version": "3.7.6"
  }
 },
 "nbformat": 4,
 "nbformat_minor": 4
}
